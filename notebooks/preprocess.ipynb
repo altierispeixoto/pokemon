{
 "cells": [
  {
   "cell_type": "code",
   "execution_count": 1,
   "metadata": {},
   "outputs": [],
   "source": [
    "import pandas as pd"
   ]
  },
  {
   "cell_type": "code",
   "execution_count": 2,
   "metadata": {},
   "outputs": [],
   "source": [
    "pokemon = pd.read_csv(\"../data/pokemonDB_dataset.csv\")"
   ]
  },
  {
   "cell_type": "code",
   "execution_count": null,
   "metadata": {},
   "outputs": [],
   "source": [
    "from neo4j_graphrag.llm import LLMResponse, OpenAILLM\n",
    "\n",
    "api_key = \"ollama\"\n",
    "\n",
    "llm = OpenAILLM(\n",
    "    base_url=\"http://localhost:11434/v1\",\n",
    "    model_name=\"llama3\",\n",
    "    api_key=api_key,\n",
    ")\n",
    "\n",
    "def generate_description(question:str) -> str:\n",
    "    res: LLMResponse = llm.invoke(question)\n",
    "    return res.content\n",
    "\n",
    "# Generate a description for each Pokemon in the dataset\n",
    "def generate_pokemon_descriptions(pokemon_df):\n",
    "    descriptions = []\n",
    "    for _, row in pokemon_df.iterrows():\n",
    "        question = f\"Create a short summary about {row['Pokemon']}\"\n",
    "        description = generate_description(question)\n",
    "        descriptions.append(description)\n",
    "    return descriptions\n",
    "\n",
    "# Add descriptions to the Pokemon DataFrame\n",
    "pokemon['Description'] = generate_pokemon_descriptions(pokemon)"
   ]
  }
 ],
 "metadata": {
  "kernelspec": {
   "display_name": ".venv",
   "language": "python",
   "name": "python3"
  },
  "language_info": {
   "codemirror_mode": {
    "name": "ipython",
    "version": 3
   },
   "file_extension": ".py",
   "mimetype": "text/x-python",
   "name": "python",
   "nbconvert_exporter": "python",
   "pygments_lexer": "ipython3",
   "version": "3.10.15"
  }
 },
 "nbformat": 4,
 "nbformat_minor": 2
}
