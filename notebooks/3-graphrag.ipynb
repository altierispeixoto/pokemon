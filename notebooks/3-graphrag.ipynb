{
 "cells": [
  {
   "cell_type": "code",
   "execution_count": 8,
   "metadata": {},
   "outputs": [],
   "source": [
    "from neo4j import GraphDatabase\n",
    "from neo4j_graphrag.indexes import create_fulltext_index, create_vector_index,drop_index_if_exists\n",
    "\n",
    "from neo4j_graphrag.embeddings.openai import OpenAIEmbeddings\n",
    "from neo4j_graphrag.retrievers import VectorRetriever, HybridCypherRetriever\n",
    "from neo4j_graphrag.llm import OpenAILLM\n",
    "from neo4j_graphrag.generation import GraphRAG, RagTemplate\n",
    "\n",
    "uri = \"bolt://localhost:7687\"\n",
    "driver = GraphDatabase.driver(uri, auth=(\"neo4j\", \"h4ck3r20o8\"))\n",
    "\n",
    "api_key = \"ollama\"\n",
    "\n",
    "embedder = OpenAIEmbeddings(\n",
    "    base_url=\"http://localhost:11434/v1\",\n",
    "    api_key=api_key,\n",
    "    model=\"snowflake-arctic-embed:latest\",\n",
    ")\n",
    "\n",
    "llm = OpenAILLM(\n",
    "    base_url=\"http://localhost:11434/v1\",\n",
    "    model_name=\"llama3\",\n",
    "    api_key=api_key,\n",
    "    model_params={\"temperature\": 0}\n",
    ")"
   ]
  },
  {
   "cell_type": "code",
   "execution_count": 2,
   "metadata": {},
   "outputs": [],
   "source": [
    "FULLTEXT_INDEX_NAME = \"fulltext_index\"\n",
    "\n",
    "create_fulltext_index(\n",
    "    driver, FULLTEXT_INDEX_NAME, label=\"Pokemon\", node_properties=[\"description\"]\n",
    ")"
   ]
  },
  {
   "cell_type": "code",
   "execution_count": 3,
   "metadata": {},
   "outputs": [],
   "source": [
    "INDEX_NAME = \"vector_index\"\n",
    "DIMENSION = 1024\n",
    "\n",
    "drop_index_if_exists(driver,INDEX_NAME,)\n",
    "\n",
    "create_vector_index(\n",
    "    driver,\n",
    "    INDEX_NAME,\n",
    "    label=\"Pokemon\",\n",
    "    embedding_property=\"vector_property\",\n",
    "    dimensions=DIMENSION,\n",
    "    similarity_fn=\"cosine\",\n",
    ")"
   ]
  },
  {
   "cell_type": "code",
   "execution_count": 4,
   "metadata": {},
   "outputs": [
    {
     "name": "stdout",
     "output_type": "stream",
     "text": [
      "Content: {'description': '{\"Pokemon\":\"Pikachu\",\"Type\":\"Electric\",\"Species\":\"Mouse Pok\\\\u00e9mon\",\"Height\":\"0.4 m (1\\\\u203204\\\\u2033)\",\"Weight\":\"6.0 kg (13.2 lbs)\",\"Abilities\":\"1. Static, Lightning Rod (hidden ability)\",\"EV Yield\":\"2 Speed\",\"Catch Rate\":\"190 (24.8% with Pok\\\\u00e9Ball, full HP)\",\"Base Friendship\":\"50 (normal)\",\"Base Exp\":\"112\",\"Growth Rate\":\"Medium Fast\",\"Egg Groups\":\"Fairy, Field\",\"Gender\":\"50% male, 50% female\",\"Egg Cycles\":\"10 (2,314\\\\u20132,570 steps)\",\"HP Base\":35,\"HP Min\":180,\"HP Max\":274,\"Attack Base\":55,\"Attack Min\":103,\"Attack Max\":229,\"Defense Base\":40,\"Defense Min\":76,\"Defense Max\":196,\"Special Attack Base\":50,\"Special Attack Min\":94,\"Special Attack Max\":218,\"Special Defense Base\":50,\"Special Defense Min\":94,\"Special Defense Max\":218,\"Speed Base\":90,\"Speed Min\":166,\"Speed Max\":306}', 'name': 'Pikachu'}\n",
      "Metadata: {'score': 0.8236856460571289, 'nodeLabels': ['Pokemon'], 'id': '4:c543a4c6-6e09-4edb-a68d-17f345c3ce0b:568'}\n",
      "Content: {'description': '{\"Pokemon\":\"Partner Pikachu\",\"Type\":\"Electric\",\"Species\":\"Mouse Pok\\\\u00e9mon\",\"Height\":\"0.4 m (1\\\\u203204\\\\u2033)\",\"Weight\":\"6.0 kg (13.2 lbs)\",\"Abilities\":\"\\\\u2014\",\"EV Yield\":\"2 Speed\",\"Catch Rate\":\"190 (24.8% with Pok\\\\u00e9Ball, full HP)\",\"Base Friendship\":\"50 (normal)\",\"Base Exp\":\"112\",\"Growth Rate\":\"Medium Fast\",\"Egg Groups\":\"\\\\u2014\",\"Gender\":\"50% male, 50% female\",\"Egg Cycles\":\"10 (2,314\\\\u20132,570 steps)\",\"HP Base\":45,\"HP Min\":200,\"HP Max\":294,\"Attack Base\":80,\"Attack Min\":148,\"Attack Max\":284,\"Defense Base\":50,\"Defense Min\":94,\"Defense Max\":218,\"Special Attack Base\":75,\"Special Attack Min\":139,\"Special Attack Max\":273,\"Special Defense Base\":60,\"Special Defense Min\":112,\"Special Defense Max\":240,\"Speed Base\":120,\"Speed Min\":220,\"Speed Max\":372}', 'name': 'Partner Pikachu'}\n",
      "Metadata: {'score': 0.821256160736084, 'nodeLabels': ['Pokemon'], 'id': '4:c543a4c6-6e09-4edb-a68d-17f345c3ce0b:569'}\n",
      "Content: {'description': '{\"Pokemon\":\"Partner Eevee\",\"Type\":\"Normal\",\"Species\":\"Evolution Pok\\\\u00e9mon\",\"Height\":\"0.3 m (1\\\\u203200\\\\u2033)\",\"Weight\":\"6.5 kg (14.3 lbs)\",\"Abilities\":\"\\\\u2014\",\"EV Yield\":\"1 Sp. Def\",\"Catch Rate\":\"45 (5.9% with Pok\\\\u00e9Ball, full HP)\",\"Base Friendship\":\"50 (normal)\",\"Base Exp\":\"65\",\"Growth Rate\":\"Medium Fast\",\"Egg Groups\":\"\\\\u2014\",\"Gender\":\"87.5% male, 12.5% female\",\"Egg Cycles\":\"35 (8,739\\\\u20138,995 steps)\",\"HP Base\":65,\"HP Min\":240,\"HP Max\":334,\"Attack Base\":75,\"Attack Min\":139,\"Attack Max\":273,\"Defense Base\":70,\"Defense Min\":130,\"Defense Max\":262,\"Special Attack Base\":65,\"Special Attack Min\":121,\"Special Attack Max\":251,\"Special Defense Base\":85,\"Special Defense Min\":157,\"Special Defense Max\":295,\"Speed Base\":75,\"Speed Min\":139,\"Speed Max\":273}', 'name': 'Partner Eevee'}\n",
      "Metadata: {'score': 0.8113620281219482, 'nodeLabels': ['Pokemon'], 'id': '4:c543a4c6-6e09-4edb-a68d-17f345c3ce0b:80'}\n",
      "The type and species of Pikachu are:\n",
      "\n",
      "* Type: Electric\n",
      "* Species: Mouse Pokémon\n"
     ]
    }
   ],
   "source": [
    "retriever = VectorRetriever(\n",
    "    driver,\n",
    "    index_name=\"vector_index\",\n",
    "    embedder=embedder,\n",
    "    return_properties=[\"name\", \"description\"],\n",
    ")\n",
    "\n",
    "query_text = \"What is the type and Species of Pikachu\"\n",
    "retriever_result = retriever.search(query_text=query_text, top_k=3)\n",
    "\n",
    "for item in retriever_result.items:\n",
    "    print(f\"Content: {item.content}\")\n",
    "    print(f\"Metadata: {item.metadata}\")\n",
    "\n",
    "rag = GraphRAG(retriever=retriever, llm=llm)\n",
    "\n",
    "response = rag.search(query_text=query_text, retriever_config={\"top_k\": 5})\n",
    "\n",
    "print(response.answer)"
   ]
  },
  {
   "cell_type": "code",
   "execution_count": 27,
   "metadata": {},
   "outputs": [
    {
     "name": "stdout",
     "output_type": "stream",
     "text": [
      "Content: <Record pokemon_name='Pikachu' pokemon_description='{\"Pokemon\":\"Pikachu\",\"Type\":\"Electric\",\"Species\":\"Mouse Pok\\\\u00e9mon\",\"Height\":\"0.4 m (1\\\\u203204\\\\u2033)\",\"Weight\":\"6.0 kg (13.2 lbs)\",\"Abilities\":\"1. Static, Lightning Rod (hidden ability)\",\"EV Yield\":\"2 Speed\",\"Catch Rate\":\"190 (24.8% with Pok\\\\u00e9Ball, full HP)\",\"Base Friendship\":\"50 (normal)\",\"Base Exp\":\"112\",\"Growth Rate\":\"Medium Fast\",\"Egg Groups\":\"Fairy, Field\",\"Gender\":\"50% male, 50% female\",\"Egg Cycles\":\"10 (2,314\\\\u20132,570 steps)\",\"HP Base\":35,\"HP Min\":180,\"HP Max\":274,\"Attack Base\":55,\"Attack Min\":103,\"Attack Max\":229,\"Defense Base\":40,\"Defense Min\":76,\"Defense Max\":196,\"Special Attack Base\":50,\"Special Attack Min\":94,\"Special Attack Max\":218,\"Special Defense Base\":50,\"Special Defense Min\":94,\"Special Defense Max\":218,\"Speed Base\":90,\"Speed Min\":166,\"Speed Max\":306}' types=['Mouse']>\n",
      "Metadata: None\n",
      "Content: <Record pokemon_name='Smoochum' pokemon_description='{\"Pokemon\":\"Smoochum\",\"Type\":\"Ice, Psychic\",\"Species\":\"Kiss Pok\\\\u00e9mon\",\"Height\":\"0.4 m (1\\\\u203204\\\\u2033)\",\"Weight\":\"6.0 kg (13.2 lbs)\",\"Abilities\":\"1. Oblivious, 2. Forewarn, Hydration (hidden ability)\",\"EV Yield\":\"1 Sp. Atk\",\"Catch Rate\":\"45 (5.9% with Pok\\\\u00e9Ball, full HP)\",\"Base Friendship\":\"50 (normal)\",\"Base Exp\":\"61\",\"Growth Rate\":\"Medium Fast\",\"Egg Groups\":\"Undiscovered\",\"Gender\":\"0% male, 100% female\",\"Egg Cycles\":\"25 (6,169\\\\u20136,425 steps)\",\"HP Base\":45,\"HP Min\":200,\"HP Max\":294,\"Attack Base\":30,\"Attack Min\":58,\"Attack Max\":174,\"Defense Base\":15,\"Defense Min\":31,\"Defense Max\":141,\"Special Attack Base\":85,\"Special Attack Min\":157,\"Special Attack Max\":295,\"Special Defense Base\":65,\"Special Defense Min\":121,\"Special Defense Max\":251,\"Speed Base\":65,\"Speed Min\":121,\"Speed Max\":251}' types=['Kiss']>\n",
      "Metadata: None\n",
      "Content: <Record pokemon_name='Type: Null' pokemon_description='{\"Pokemon\":\"Type: Null\",\"Type\":\"Normal\",\"Species\":\"Synthetic Pok\\\\u00e9mon\",\"Height\":\"1.9 m (6\\\\u203203\\\\u2033)\",\"Weight\":\"120.5 kg (265.7 lbs)\",\"Abilities\":\"1. Battle Armor\",\"EV Yield\":\"2 HP\",\"Catch Rate\":\"3 (0.4% with Pok\\\\u00e9Ball, full HP)\",\"Base Friendship\":\"0 (lower than normal)\",\"Base Exp\":\"107\",\"Growth Rate\":\"Slow\",\"Egg Groups\":\"Undiscovered\",\"Gender\":\"Genderless\",\"Egg Cycles\":\"120 (30,584\\\\u201330,840 steps)\",\"HP Base\":95,\"HP Min\":300,\"HP Max\":394,\"Attack Base\":95,\"Attack Min\":175,\"Attack Max\":317,\"Defense Base\":95,\"Defense Min\":175,\"Defense Max\":317,\"Special Attack Base\":95,\"Special Attack Min\":175,\"Special Attack Max\":317,\"Special Defense Base\":95,\"Special Defense Min\":175,\"Special Defense Max\":317,\"Speed Base\":59,\"Speed Min\":110,\"Speed Max\":238}' types=['Synthetic']>\n",
      "Metadata: None\n",
      "Content: <Record pokemon_name='Partner Pikachu' pokemon_description='{\"Pokemon\":\"Partner Pikachu\",\"Type\":\"Electric\",\"Species\":\"Mouse Pok\\\\u00e9mon\",\"Height\":\"0.4 m (1\\\\u203204\\\\u2033)\",\"Weight\":\"6.0 kg (13.2 lbs)\",\"Abilities\":\"\\\\u2014\",\"EV Yield\":\"2 Speed\",\"Catch Rate\":\"190 (24.8% with Pok\\\\u00e9Ball, full HP)\",\"Base Friendship\":\"50 (normal)\",\"Base Exp\":\"112\",\"Growth Rate\":\"Medium Fast\",\"Egg Groups\":\"\\\\u2014\",\"Gender\":\"50% male, 50% female\",\"Egg Cycles\":\"10 (2,314\\\\u20132,570 steps)\",\"HP Base\":45,\"HP Min\":200,\"HP Max\":294,\"Attack Base\":80,\"Attack Min\":148,\"Attack Max\":284,\"Defense Base\":50,\"Defense Min\":94,\"Defense Max\":218,\"Special Attack Base\":75,\"Special Attack Min\":139,\"Special Attack Max\":273,\"Special Defense Base\":60,\"Special Defense Min\":112,\"Special Defense Max\":240,\"Speed Base\":120,\"Speed Min\":220,\"Speed Max\":372}' types=['Mouse']>\n",
      "Metadata: None\n",
      "Content: <Record pokemon_name='Yungoos' pokemon_description='{\"Pokemon\":\"Yungoos\",\"Type\":\"Normal\",\"Species\":\"Loitering Pok\\\\u00e9mon\",\"Height\":\"0.4 m (1\\\\u203204\\\\u2033)\",\"Weight\":\"6.0 kg (13.2 lbs)\",\"Abilities\":\"1. Strong Jaw, 2. Stakeout, Adaptability (hidden ability)\",\"EV Yield\":\"1 Attack\",\"Catch Rate\":\"255 (33.3% with Pok\\\\u00e9Ball, full HP)\",\"Base Friendship\":\"50 (normal)\",\"Base Exp\":\"51\",\"Growth Rate\":\"Medium Fast\",\"Egg Groups\":\"Field\",\"Gender\":\"50% male, 50% female\",\"Egg Cycles\":\"15 (3,599\\\\u20133,855 steps)\",\"HP Base\":48,\"HP Min\":206,\"HP Max\":300,\"Attack Base\":70,\"Attack Min\":130,\"Attack Max\":262,\"Defense Base\":30,\"Defense Min\":58,\"Defense Max\":174,\"Special Attack Base\":30,\"Special Attack Min\":58,\"Special Attack Max\":174,\"Special Defense Base\":30,\"Special Defense Min\":58,\"Special Defense Max\":174,\"Speed Base\":45,\"Speed Min\":85,\"Speed Max\":207}' types=['Loitering']>\n",
      "Metadata: None\n",
      "Based on the provided context, the Pokémon that have a height of 0.4 m (1'04\") and a weight of 6.0 kg (13.2 lbs) are:\n",
      "\n",
      "* Pikachu\n",
      "* Smoochum\n",
      "* Partner Pikachu\n",
      "* Yungoos\n"
     ]
    }
   ],
   "source": [
    "retrieval_query = \"\"\"\n",
    "    MATCH (s:Species)<-[:BELONGS_TO]-(node)\n",
    "    RETURN\n",
    "        node.name AS pokemon_name,\n",
    "        node.description AS pokemon_description, \n",
    "    collect(s.name) AS types;\n",
    "\"\"\"\n",
    "\n",
    "# retrieval_query2 = \"\"\" \n",
    "# MATCH (s:Species)<-[:BELONGS_TO]-(node)-[:HAS_TYPE]->(t:Type) \n",
    "# return node.name as pokemon_name, node.description, collect(s.name) as species, collect(t.name) as types\n",
    "# \"\"\"\n",
    "\n",
    "\n",
    "template = RagTemplate(\n",
    "    template=\"\"\"You are an expert in pokemons. Your task is to\n",
    "    answer the user's question based on the provided context. Use only the\n",
    "    information within that context.\n",
    "\n",
    "    Context:\n",
    "    {context}\n",
    "\n",
    "    Examples:\n",
    "    {examples}\n",
    "\n",
    "    Question:\n",
    "    {query_text}\n",
    "\n",
    "    Answer:\n",
    "    \"\"\"\n",
    ")\n",
    "\n",
    "retriever = HybridCypherRetriever(\n",
    "    driver,\n",
    "    vector_index_name=\"vector_index\",\n",
    "    fulltext_index_name=\"fulltext_index\",\n",
    "    retrieval_query=retrieval_query,\n",
    "    embedder=embedder\n",
    ")\n",
    "\n",
    "query_text = \"\"\"which pokemons has height is 0.4 m and weight 6.0 kg\"\"\"\n",
    "\n",
    "retriever_result = retriever.search(query_text=query_text, top_k=5)\n",
    "for item in retriever_result.items:\n",
    "    print(f\"Content: {item.content}\")\n",
    "    print(f\"Metadata: {item.metadata}\")\n",
    "\n",
    "# Initialize the RAG pipeline\n",
    "rag = GraphRAG(retriever=retriever, llm=llm, prompt_template=template)\n",
    "response = rag.search(query_text=query_text, retriever_config={\"top_k\": 5}, return_context=True)\n",
    "print(response.answer)"
   ]
  },
  {
   "cell_type": "code",
   "execution_count": 6,
   "metadata": {},
   "outputs": [
    {
     "name": "stdout",
     "output_type": "stream",
     "text": [
      "items=[RetrieverResultItem(content=\"<Record pokemon_name='Pikachu' node.description='Here is a short summary about Pikachu:\\\\n\\\\nPokemon: Pikachu\\\\nType: Electric\\\\nSpecies: Mouse Pokémon\\\\nNext Evolution: Raichu\\\\nDescription: Known for its bright yellow fur and red cheeks, Pikachu is a small rodent-like creature that stores electricity in its cheeks. It is often considered the mascot of the Pokémon franchise.' species=['Mouse'] types=['Electric']>\", metadata=None), RetrieverResultItem(content=\"<Record pokemon_name='Quaquaval' node.description='Here is a summary of Quaquaval:\\\\n\\\\n* Pokémon: Quaquaval\\\\n* Type: Water/Fighting\\\\n* Species: Dancer Pokémon' species=['Dancer', 'Dancer'] types=['Fighting', 'Water']>\", metadata=None), RetrieverResultItem(content=\"<Record pokemon_name='Patrat' node.description='Here is a summary of Patrat:\\\\n\\\\n* Pokémon: Patrat\\\\n* Type: Normal\\\\n* Species: Scout Pokémon\\\\n* Next Evolution: Snivel\\\\n* Description:' species=['Scout'] types=['Normal']>\", metadata=None)] metadata={'__retriever': 'HybridCypherRetriever'}\n",
      "Based on the context, none of the pokemons have the same type (Electric) and species (Mouse) as Pikachu. Therefore, the answer is an empty list.\n",
      "\n",
      "However, if you're asking about pokemons that have the same species as Pikachu, you could consider Patrat which has a species of 'Scout'. Since Scout is not exactly the same as Mouse (), I would say there are no pokemons that have the exact same type and species as Pikachu.\n"
     ]
    }
   ],
   "source": [
    "query_text = \"List all pokemons that have the same type and species of Pikachu\"\n",
    "retriever_result = retriever.search(query_text=query_text, top_k=3)\n",
    "print(retriever_result)\n",
    "\n",
    "# Initialize the RAG pipeline\n",
    "rag = GraphRAG(retriever=retriever, llm=llm)\n",
    "response = rag.search(query_text=query_text, retriever_config={\"top_k\": 3})\n",
    "print(response.answer)"
   ]
  },
  {
   "cell_type": "code",
   "execution_count": null,
   "metadata": {},
   "outputs": [],
   "source": []
  }
 ],
 "metadata": {
  "kernelspec": {
   "display_name": ".venv",
   "language": "python",
   "name": "python3"
  },
  "language_info": {
   "codemirror_mode": {
    "name": "ipython",
    "version": 3
   },
   "file_extension": ".py",
   "mimetype": "text/x-python",
   "name": "python",
   "nbconvert_exporter": "python",
   "pygments_lexer": "ipython3",
   "version": "3.10.15"
  }
 },
 "nbformat": 4,
 "nbformat_minor": 2
}
