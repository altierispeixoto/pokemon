{
 "cells": [
  {
   "cell_type": "code",
   "execution_count": 18,
   "metadata": {},
   "outputs": [],
   "source": [
    "from neo4j import GraphDatabase\n",
    "from neo4j_graphrag.indexes import create_fulltext_index, create_vector_index,drop_index_if_exists\n",
    "\n",
    "from neo4j_graphrag.embeddings.openai import OpenAIEmbeddings\n",
    "from neo4j_graphrag.retrievers import VectorRetriever, HybridCypherRetriever\n",
    "from neo4j_graphrag.llm import OpenAILLM\n",
    "from neo4j_graphrag.generation import GraphRAG\n",
    "\n",
    "uri = \"bolt://localhost:7687\"\n",
    "driver = GraphDatabase.driver(uri, auth=(\"neo4j\", \"h4ck3r20o8\"))\n",
    "\n",
    "api_key = \"ollama\"\n",
    "\n",
    "embedder = OpenAIEmbeddings(\n",
    "    base_url=\"http://localhost:11434/v1\",\n",
    "    api_key=api_key,\n",
    "    model=\"snowflake-arctic-embed:latest\",\n",
    ")\n",
    "\n",
    "llm = OpenAILLM(\n",
    "    base_url=\"http://localhost:11434/v1\",\n",
    "    model_name=\"llama3\",\n",
    "    api_key=api_key,\n",
    ")"
   ]
  },
  {
   "cell_type": "code",
   "execution_count": 2,
   "metadata": {},
   "outputs": [],
   "source": [
    "FULLTEXT_INDEX_NAME = \"fulltext_index\"\n",
    "\n",
    "create_fulltext_index(\n",
    "    driver, FULLTEXT_INDEX_NAME, label=\"Pokemon\", node_properties=[\"description\"]\n",
    ")"
   ]
  },
  {
   "cell_type": "code",
   "execution_count": 3,
   "metadata": {},
   "outputs": [],
   "source": [
    "INDEX_NAME = \"vector_index\"\n",
    "DIMENSION = 1024\n",
    "\n",
    "drop_index_if_exists(driver,INDEX_NAME,)\n",
    "\n",
    "create_vector_index(\n",
    "    driver,\n",
    "    INDEX_NAME,\n",
    "    label=\"Pokemon\",\n",
    "    embedding_property=\"vector_property\",\n",
    "    dimensions=DIMENSION,\n",
    "    similarity_fn=\"cosine\",\n",
    ")"
   ]
  },
  {
   "cell_type": "code",
   "execution_count": 4,
   "metadata": {},
   "outputs": [
    {
     "name": "stdout",
     "output_type": "stream",
     "text": [
      "items=[RetrieverResultItem(content='{\\'description\\': \"Pikachu is a beloved and iconic Pokémon character in the popular franchise created by Satoshi Tajiri. It\\'s a small, rodent-like creature with yellow fur and red circles on its cheeks that can store electricity in its cheeks. Pikachu is known for its ability to deliver powerful electric attacks and is often considered one of the most popular and recognizable Pokémon characters.\", \\'name\\': \\'Pikachu\\'}', metadata={'score': 0.9058599472045898, 'nodeLabels': ['Pokemon'], 'id': '4:c543a4c6-6e09-4edb-a68d-17f345c3ce0b:782'}), RetrieverResultItem(content='{\\'description\\': \\'Pikachu is a beloved and iconic fictional creature from the popular \"Pokémon\" franchise. It is a small, rodent-like Pokémon with electric powers. Pikachu is known for its bright yellow color, red cheeks, and adorable appearance. In the franchise\\\\\\'s storyline, Pikachu is the partner Pokémon of Ash Ketchum, the main protagonist, and has been depicted as one of the most popular and loyal Pokémon.\\', \\'name\\': \\'Pichu\\'}', metadata={'score': 0.9020788669586182, 'nodeLabels': ['Pokemon'], 'id': '4:c543a4c6-6e09-4edb-a68d-17f345c3ce0b:775'}), RetrieverResultItem(content='{\\'description\\': \\'I apologize, but I couldn\\\\\\'t find any information on \"Aurorus.\" It\\\\\\'s possible that it\\\\\\'s a lesser-known or fictional entity. Can you please provide more context or clarify what Aurorus refers to? If it\\\\\\'s a Pokémon, I\\\\\\'d be happy to help with a summary of its characteristics and abilities!\\', \\'name\\': \\'Aurorus\\'}', metadata={'score': 0.85935378074646, 'nodeLabels': ['Pokemon'], 'id': '4:c543a4c6-6e09-4edb-a68d-17f345c3ce0b:50'})] metadata={'__retriever': 'VectorRetriever'}\n",
      "Based on the given context, Pikachu is a small, rodent-like Pokémon with electric powers. It is known for its bright yellow color, red cheeks, and adorable appearance. Therefore, the type and species of Pikachu are:\n",
      "\n",
      "* Type: Electric\n",
      "* Species: Pikachu\n"
     ]
    }
   ],
   "source": [
    "retriever = VectorRetriever(\n",
    "    driver,\n",
    "    index_name=\"vector_index\",\n",
    "    embedder=embedder,\n",
    "    return_properties=[\"name\", \"description\"],\n",
    ")\n",
    "\n",
    "query_text = \"Who is Pikachu\"\n",
    "retriever_result = retriever.search(query_text=query_text, top_k=3)\n",
    "print(retriever_result)\n",
    "\n",
    "rag = GraphRAG(retriever=retriever, llm=llm)\n",
    "\n",
    "# Query the graph\n",
    "query_text = \"What is the type and Species of Pikachu\"\n",
    "response = rag.search(query_text=query_text, retriever_config={\"top_k\": 5})\n",
    "print(response.answer)"
   ]
  },
  {
   "cell_type": "code",
   "execution_count": 23,
   "metadata": {},
   "outputs": [
    {
     "name": "stdout",
     "output_type": "stream",
     "text": [
      "items=[RetrieverResultItem(content=\"<Record pokemon_name='Partner Pikachu' species=['Mouse'] types=['Electric']>\", metadata=None), RetrieverResultItem(content=\"<Record pokemon_name='Pichu' species=['Tiny Mouse'] types=['Electric']>\", metadata=None), RetrieverResultItem(content=\"<Record pokemon_name='Pikachu' species=['Mouse'] types=['Electric']>\", metadata=None)] metadata={'__retriever': 'HybridCypherRetriever'}\n",
      "Pikachu's species is ['Mouse'], and its type is ['Electric'].\n"
     ]
    }
   ],
   "source": [
    "retrieval_query = \"\"\"\n",
    "    MATCH (t:Type)<-[:HAS_TYPE]-(node)\n",
    "    MATCH (s:Species)<-[:BELONGS_TO]-(node)\n",
    "    RETURN\n",
    "        node.name AS pokemon_name,\n",
    "        node.description AS pokemon_description, \n",
    "    collect(t.name) AS types, collect(s.name) as species;\n",
    "\"\"\"\n",
    "\n",
    "retrieval_query2 = \"\"\" \n",
    "MATCH (s:Species)<-[:BELONGS_TO]-(node)-[:HAS_TYPE]->(t:Type) \n",
    "return node.name as pokemon_name, node.description, collect(s.name) as species, collect(t.name) as types\n",
    "\"\"\"\n",
    "retriever = HybridCypherRetriever(\n",
    "    driver,\n",
    "    vector_index_name=\"vector_index\",\n",
    "    fulltext_index_name=\"fulltext_index\",\n",
    "    retrieval_query=retrieval_query2,\n",
    "    embedder=embedder, \n",
    ")\n",
    "\n",
    "query_text = \"What is the type and Species of Pikachu\"\n",
    "retriever_result = retriever.search(query_text=query_text, top_k=3)\n",
    "print(retriever_result)\n",
    "\n",
    "# Initialize the RAG pipeline\n",
    "rag = GraphRAG(retriever=retriever, llm=llm)\n",
    "response = rag.search(query_text=query_text, retriever_config={\"top_k\": 5})\n",
    "print(response.answer)"
   ]
  },
  {
   "cell_type": "code",
   "execution_count": 26,
   "metadata": {},
   "outputs": [
    {
     "name": "stdout",
     "output_type": "stream",
     "text": [
      "items=[RetrieverResultItem(content=\"<Record pokemon_name='Toxel' species=['Baby', 'Baby'] types=['Poison', 'Electric']>\", metadata=None), RetrieverResultItem(content=\"<Record pokemon_name='Pichu' species=['Tiny Mouse'] types=['Electric']>\", metadata=None), RetrieverResultItem(content=\"<Record pokemon_name='Pikachu' species=['Mouse'] types=['Electric']>\", metadata=None)] metadata={'__retriever': 'HybridCypherRetriever'}\n",
      "Based on the given context, since Pikachu is a 'Mouse' with the Electric type, we are looking for pokemons that also share these characteristics. \n",
      "\n",
      "Toxel shares the same Electric type as Pikachu, but its species is different (Baby instead of Mouse). Pichu does have the same Electric type as Pikachu, and both species (\"Tiny Mouse\" for Pichu and \"Mouse\" for Pikachu) belong to mammals, so we consider it a match.\n",
      "\n",
      "Therefore, the answer would be: Pichu\n"
     ]
    }
   ],
   "source": [
    "query_text = \"List all pokemons that have the same type and species of Pikachu\"\n",
    "retriever_result = retriever.search(query_text=query_text, top_k=3)\n",
    "print(retriever_result)\n",
    "\n",
    "# Initialize the RAG pipeline\n",
    "rag = GraphRAG(retriever=retriever, llm=llm)\n",
    "response = rag.search(query_text=query_text, retriever_config={\"top_k\": 3})\n",
    "print(response.answer)"
   ]
  },
  {
   "cell_type": "code",
   "execution_count": null,
   "metadata": {},
   "outputs": [],
   "source": []
  }
 ],
 "metadata": {
  "kernelspec": {
   "display_name": ".venv",
   "language": "python",
   "name": "python3"
  },
  "language_info": {
   "codemirror_mode": {
    "name": "ipython",
    "version": 3
   },
   "file_extension": ".py",
   "mimetype": "text/x-python",
   "name": "python",
   "nbconvert_exporter": "python",
   "pygments_lexer": "ipython3",
   "version": "3.10.15"
  }
 },
 "nbformat": 4,
 "nbformat_minor": 2
}
