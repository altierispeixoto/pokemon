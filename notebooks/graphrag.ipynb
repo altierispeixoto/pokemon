{
 "cells": [
  {
   "cell_type": "code",
   "execution_count": 10,
   "metadata": {},
   "outputs": [],
   "source": [
    "from neo4j import GraphDatabase\n",
    "\n",
    "# Connect to Neo4j\n",
    "uri = \"bolt://localhost:7687\"\n",
    "driver = GraphDatabase.driver(uri, auth=(\"neo4j\", \"h4ck3r20o8\"))"
   ]
  },
  {
   "cell_type": "code",
   "execution_count": 11,
   "metadata": {},
   "outputs": [],
   "source": [
    "import neo4j\n",
    "from neo4j_graphrag.indexes import create_fulltext_index\n",
    "\n",
    "FULLTEXT_INDEX_NAME = \"fulltext_index\"\n",
    "\n",
    "create_fulltext_index(\n",
    "    driver, FULLTEXT_INDEX_NAME, label=\"Pokemon\", node_properties=[\"description\"]\n",
    ")\n"
   ]
  },
  {
   "cell_type": "code",
   "execution_count": null,
   "metadata": {},
   "outputs": [],
   "source": [
    "import neo4j\n",
    "from neo4j_graphrag.indexes import create_vector_index\n",
    "\n",
    "INDEX_NAME = \"vector_index\"\n",
    "DIMENSION = 1536\n",
    "\n",
    "driver = neo4j.GraphDatabase.driver(NEO4J_URL, auth=NEO4J_AUTH)\n",
    "\n",
    "create_vector_index(\n",
    "    driver,\n",
    "    INDEX_NAME,\n",
    "    label=\"Pokemon\",\n",
    "    embedding_property=\"vectorProperty\",\n",
    "    dimensions=DIMENSION,\n",
    "    similarity_fn=\"euclidean\",\n",
    ")"
   ]
  },
  {
   "cell_type": "code",
   "execution_count": null,
   "metadata": {},
   "outputs": [],
   "source": [
    "import random\n",
    "from typing import Any\n",
    "\n",
    "from neo4j_graphrag.embeddings import Embedder\n",
    "\n",
    "\n",
    "class CustomEmbeddings(Embedder):\n",
    "    def __init__(self, dimension: int = 10, **kwargs: Any):\n",
    "        self.dimension = dimension\n",
    "\n",
    "    def embed_query(self, input: str) -> list[float]:\n",
    "        return [random.random() for _ in range(self.dimension)]\n",
    "\n",
    "\n",
    "llm = CustomEmbeddings(dimensions=1024)\n",
    "res = llm.embed_query(\"text\")\n",
    "print(res[:10])"
   ]
  },
  {
   "cell_type": "code",
   "execution_count": 7,
   "metadata": {},
   "outputs": [
    {
     "name": "stdout",
     "output_type": "stream",
     "text": [
      "I'm happy to help! However, it seems like I wasn't provided with anything to create a description about. Could you please provide me with the topic or subject that you would like me to create a description for? It could be a product, service, person, place, event, or anything else. Just let me know, and I'll do my best to craft a compelling and informative description!\n"
     ]
    }
   ],
   "source": [
    "from neo4j_graphrag.llm import LLMResponse, OpenAILLM\n",
    "\n",
    "# not used but needs to be provided\n",
    "api_key = \"ollama\"\n",
    "\n",
    "llm = OpenAILLM(\n",
    "    base_url=\"http://localhost:11434/v1\",\n",
    "    model_name=\"llama3.2:latest\",\n",
    "    api_key=api_key,\n",
    ")\n",
    "\n",
    "text = \"\"\"\n",
    "create a description about\n",
    "\"\"\"\n",
    "\n",
    "res: LLMResponse = llm.invoke(text)\n",
    "print(res.content)"
   ]
  },
  {
   "cell_type": "code",
   "execution_count": 3,
   "metadata": {},
   "outputs": [
    {
     "name": "stdout",
     "output_type": "stream",
     "text": [
      "content=''\n"
     ]
    }
   ],
   "source": [
    "print(res.content[10:])"
   ]
  },
  {
   "cell_type": "code",
   "execution_count": 6,
   "metadata": {},
   "outputs": [
    {
     "name": "stdout",
     "output_type": "stream",
     "text": [
      "1024\n"
     ]
    }
   ],
   "source": [
    "\"\"\"This example demonstrate how to embed a text into a vector\n",
    "using OpenAI models and API.\n",
    "\"\"\"\n",
    "\n",
    "from neo4j_graphrag.embeddings import OpenAIEmbeddings\n",
    "\n",
    "api_key = \"ollama\"\n",
    "\n",
    "embeder = OpenAIEmbeddings(\n",
    "    base_url=\"http://localhost:11434/v1\",\n",
    "    api_key=api_key,\n",
    "    model=\"snowflake-arctic-embed:latest\",\n",
    ")\n",
    "res = embeder.embed_query(\"my question\")\n",
    "print(len(res))"
   ]
  },
  {
   "cell_type": "code",
   "execution_count": null,
   "metadata": {},
   "outputs": [],
   "source": [
    "from neo4j_graphrag.embeddings.openai import OpenAIEmbeddings\n",
    "from neo4j_graphrag.retrievers import VectorCypherRetriever\n",
    "\n",
    "embedder = OpenAIEmbeddings(model=\"text-embedding-ada-002\")\n",
    "retrieval_query = \"\"\"\n",
    "    MATCH\n",
    "    (actor:Actor)-[:ACTED_IN]->(node)\n",
    "    RETURN\n",
    "    node.title AS movie_title,\n",
    "    node.plot AS movie_plot, \n",
    "    collect(actor.name) AS actors;\n",
    "\"\"\"\n",
    "\n",
    "retriever = VectorCypherRetriever(\n",
    "    driver,\n",
    "    index_name=\"moviePlotsEmbedding\",\n",
    "    embedder=embedder,\n",
    "    retrieval_query=retrieval_query,\n",
    ")\n",
    "query_text = \"What are the names of the actors in the movie set in 1375 in Imperial China?\"\n",
    "retriever_result = retriever.search(query_text=query_text, top_k=3)\n",
    "print(retriever_result)"
   ]
  }
 ],
 "metadata": {
  "kernelspec": {
   "display_name": ".venv",
   "language": "python",
   "name": "python3"
  },
  "language_info": {
   "codemirror_mode": {
    "name": "ipython",
    "version": 3
   },
   "file_extension": ".py",
   "mimetype": "text/x-python",
   "name": "python",
   "nbconvert_exporter": "python",
   "pygments_lexer": "ipython3",
   "version": "3.10.15"
  }
 },
 "nbformat": 4,
 "nbformat_minor": 2
}
